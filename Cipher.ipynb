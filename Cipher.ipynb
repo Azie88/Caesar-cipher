{
 "cells": [
  {
   "cell_type": "code",
   "execution_count": 7,
   "metadata": {},
   "outputs": [
    {
     "name": "stdout",
     "output_type": "stream",
     "text": [
      "Welcome to the program\n",
      "----------------------\n",
      "The encrypted text is: QEB NRFZH YOLTK CLU GRJMP LSBO QEB IXWV ALD\n",
      "The decrypted text is: THE QUICK BROWN FOX JUMPS OVER THE LAZY DOG\n",
      "The decrypted text is: THE QUICK BROWN FOX JUMPS OVER THE LAZY DOG\n"
     ]
    }
   ],
   "source": [
    "#import string module to get uppercase alphabet\n",
    "from string import ascii_uppercase\n",
    "#import string\n",
    "\n",
    "#User input to be encrypted\n",
    "print ('Welcome to the program\\n----------------------')\n",
    "user_input = input('Enter a message to encrypt: ')\n",
    "\n",
    "\n",
    "def caesar_cipher(plain_text, key):\n",
    "    cipher_text = ''\n",
    "    for i in plain_text:\n",
    "        if i.isalpha():\n",
    "            shifted_i = ascii_uppercase[(ascii_uppercase.index(i)- key) % 26]\n",
    "            cipher_text += shifted_i\n",
    "        else:\n",
    "            cipher_text += i\n",
    "    return cipher_text\n",
    "\n",
    "#Function is declared with the parameters.\n",
    "encrypted_text = caesar_cipher(plain_text = user_input.upper(), key = 3)\n",
    "print('The encrypted text is:', encrypted_text)\n",
    "\n",
    "decrypted_text = caesar_cipher(plain_text = user_input.upper(), key = 0)\n",
    "print('The decrypted text is:', decrypted_text)\n",
    "\n",
    "print ('The decrypted text is:',user_input)"
   ]
  }
 ],
 "metadata": {
  "kernelspec": {
   "display_name": "Python 3",
   "language": "python",
   "name": "python3"
  },
  "language_info": {
   "codemirror_mode": {
    "name": "ipython",
    "version": 3
   },
   "file_extension": ".py",
   "mimetype": "text/x-python",
   "name": "python",
   "nbconvert_exporter": "python",
   "pygments_lexer": "ipython3",
   "version": "3.11.2"
  },
  "orig_nbformat": 4
 },
 "nbformat": 4,
 "nbformat_minor": 2
}
